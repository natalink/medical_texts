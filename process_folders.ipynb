{
 "cells": [
  {
   "cell_type": "code",
   "execution_count": 68,
   "metadata": {
    "scrolled": true
   },
   "outputs": [
    {
     "name": "stdout",
     "output_type": "stream",
     "text": [
      "/home/qt402/medical_texts/MedicalCorpusPLOSON/andrology/Male_disfunction/author_affiliate/_10_1371_journal_pone_0054429.txt\n",
      "Discipline|subdiscipline:  andrology|Male_disfunction |||||| filename: _10_1371_journal_pone_0054429.txt\n",
      "First column(filename):  _10_1371_journal_pone_0054429.txt Second column(discipline|subdiscipline: ) andrology|Male_disfunction fourth column (affil):  Ghana Health Service, Brong Ahafo Regional Hospital, Sunyani, Ghana\n",
      "Department of Social and Behavioural Science, School of Public Health, College of Health Sciences, University of Ghana, Legon, Ghana fifth columns(author):  N/A\n",
      "section:  abstract\n",
      "We will be parsing a file:  /home/qt402/medical_texts/MedicalCorpusPLOSON/gynecology/pregnancy/abstract/_10_1371_journal_pone_0044129.txt\n",
      "section:  conclusion\n",
      "We will be parsing a file:  /home/qt402/medical_texts/MedicalCorpusPLOSON/gynecology/pregnancy/conclusion/_10_1371_journal_pone_0044129.txt\n",
      "/home/qt402/medical_texts/MedicalCorpusPLOSON/gynecology/pregnancy/author_affiliate/_10_1371_journal_pone_0044129.txt\n",
      "Discipline|subdiscipline:  gynecology|pregnancy |||||| filename: _10_1371_journal_pone_0044129.txt\n",
      "First column(filename):  _10_1371_journal_pone_0044129.txt Second column(discipline|subdiscipline: ) gynecology|pregnancy fourth column (affil):  UNDP/UNFPA/WHO/World Bank Special Programme of Research, Development and Research Training in Human Reproduction, Department of Reproductive Health and Research, World Health Organization, Geneva, Switzerland\n",
      "Department of Obstetrics and Gynecology, School of Medical Sciences, University of Campinas (UNICAMP), Campinas, Brazil\n",
      "Department of Obstetrics, Instituto de Medicina Integral Prof. Fernando Figueira (IMIP), Recife, Pernambuco, Brazil fifth columns(author):  Joao Paulo Souza\n",
      "Jose Guilherme Cecatti\n",
      "Samira M Haddad\n",
      "Mary Angela Parpinelli\n",
      "Maria Laura Costa\n",
      "Leila Katz\n",
      "Lale Say\n",
      "Brazilian Network for Surveillance of Severe Maternal Morbidity \n",
      "section:  abstract\n",
      "We will be parsing a file:  /home/qt402/medical_texts/MedicalCorpusPLOSON/gynecology/pregnancy/abstract/_10_1371_journal_pone_0044129.txt\n",
      "section:  conclusion\n",
      "We will be parsing a file:  /home/qt402/medical_texts/MedicalCorpusPLOSON/gynecology/pregnancy/conclusion/_10_1371_journal_pone_0044129.txt\n"
     ]
    }
   ],
   "source": [
    "import os\n",
    "import glob\n",
    "import re\n",
    "import sys\n",
    "import subprocess\n",
    "\n",
    "\n",
    "\n",
    "def parse_file_in_section(file):\n",
    "    section_list = ['abstract', 'conclusion']\n",
    "    for section in section_list:\n",
    "        print (\"section: \", section)\n",
    "        file_to_parse = re.sub('author_affiliate',section, file)\n",
    "        parsed_file = re.sub('.txt', '_OUTPUT.conllu', file_to_parse)\n",
    "        print (\"We will be parsing a file: \", file_to_parse)\n",
    "        #subprocess.call(['/home/qt402/medical_texts/parse_file.sh', str(file_to_parse), str(parsed_file)])\n",
    "        \n",
    "def read_file(file):\n",
    "    if os.path.isfile(file):\n",
    "        with open(file) as f:\n",
    "            lines = f.read().splitlines()\n",
    "        lines_string = \"\\n\".join(lines)\n",
    "    else: # if author file does not exist, return N/A\n",
    "        lines_string = 'N/A' \n",
    "    return lines_string\n",
    "\n",
    "def separate_path(author_affiliate_file):\n",
    "    path_list = author_affiliate_file.split(os.sep)\n",
    "    disc_subdisc = path_list[5]+ \"|\"+ path_list[6]\n",
    "    print (\"Discipline|subdiscipline: \", disc_subdisc, \"|||||| filename:\",path_list[8])\n",
    "    return (path_list[8], disc_subdisc)\n",
    "    \n",
    "def main():\n",
    "    for author_affiliate_file in glob.glob('/home/qt402/medical_texts/MedicalCorpusPLOSON/*/*/author_affiliate/*29.txt'):\n",
    "        print (author_affiliate_file)\n",
    "        author_file = re.sub('author_affiliate','author', author_affiliate_file)\n",
    "        lines_affil = read_file(author_affiliate_file)\n",
    "        lines_author = read_file(author_file)\n",
    "        filename, disc_subdisc = separate_path(author_affiliate_file)\n",
    "        print (\"First column(filename): \", filename, \"Second column(discipline|subdiscipline: )\", disc_subdisc, \"fourth column (affil): \", lines_affil, \"fifth columns(author): \", lines_author)\n",
    "        parse_file_in_section(file)    \n",
    "    \n",
    "if __name__ == \"__main__\":\n",
    "    main()\n",
    "    \n",
    "    "
   ]
  },
  {
   "cell_type": "code",
   "execution_count": null,
   "metadata": {},
   "outputs": [],
   "source": []
  },
  {
   "cell_type": "code",
   "execution_count": null,
   "metadata": {},
   "outputs": [],
   "source": [
    "\n",
    "\n",
    "\n"
   ]
  }
 ],
 "metadata": {
  "kernelspec": {
   "display_name": "Python 3",
   "language": "python",
   "name": "python3"
  },
  "language_info": {
   "codemirror_mode": {
    "name": "ipython",
    "version": 3
   },
   "file_extension": ".py",
   "mimetype": "text/x-python",
   "name": "python",
   "nbconvert_exporter": "python",
   "pygments_lexer": "ipython3",
   "version": "3.5.2"
  }
 },
 "nbformat": 4,
 "nbformat_minor": 2
}
